{
 "cells": [
  {
   "cell_type": "code",
   "execution_count": 7,
   "id": "mineral-detroit",
   "metadata": {},
   "outputs": [],
   "source": [
    "from rdkit import Chem\n",
    "from EFGs import standize"
   ]
  },
  {
   "cell_type": "code",
   "execution_count": 2,
   "id": "romantic-somewhere",
   "metadata": {},
   "outputs": [],
   "source": [
    "import pandas as pd"
   ]
  },
  {
   "cell_type": "code",
   "execution_count": 4,
   "id": "loose-reason",
   "metadata": {},
   "outputs": [],
   "source": [
    "all_data = pd.read_csv(\"../data/USPTO_1k_TPL/uspto_1k_TPL_test.tsv\", sep='\\t')"
   ]
  },
  {
   "cell_type": "code",
   "execution_count": 28,
   "id": "third-television",
   "metadata": {},
   "outputs": [],
   "source": [
    "rxn, pdt, rcts = all_data.iloc[0][\"retro_template\"], all_data.iloc[0][\"products\"], all_data.iloc[0][\"reactants\"],"
   ]
  },
  {
   "cell_type": "code",
   "execution_count": 5,
   "id": "accepted-arthur",
   "metadata": {},
   "outputs": [
    {
     "data": {
      "text/html": [
       "<div>\n",
       "<style scoped>\n",
       "    .dataframe tbody tr th:only-of-type {\n",
       "        vertical-align: middle;\n",
       "    }\n",
       "\n",
       "    .dataframe tbody tr th {\n",
       "        vertical-align: top;\n",
       "    }\n",
       "\n",
       "    .dataframe thead th {\n",
       "        text-align: right;\n",
       "    }\n",
       "</style>\n",
       "<table border=\"1\" class=\"dataframe\">\n",
       "  <thead>\n",
       "    <tr style=\"text-align: right;\">\n",
       "      <th></th>\n",
       "      <th>Unnamed: 0</th>\n",
       "      <th>level_0</th>\n",
       "      <th>index</th>\n",
       "      <th>original_rxn</th>\n",
       "      <th>fragments</th>\n",
       "      <th>source</th>\n",
       "      <th>year</th>\n",
       "      <th>mapped_rxn</th>\n",
       "      <th>confidence</th>\n",
       "      <th>canonical_rxn_with_fragment_info</th>\n",
       "      <th>...</th>\n",
       "      <th>ID</th>\n",
       "      <th>reaction_hash</th>\n",
       "      <th>reactants</th>\n",
       "      <th>products</th>\n",
       "      <th>retro_template</th>\n",
       "      <th>template_hash</th>\n",
       "      <th>selectivity</th>\n",
       "      <th>outcomes</th>\n",
       "      <th>reagents</th>\n",
       "      <th>labels</th>\n",
       "    </tr>\n",
       "  </thead>\n",
       "  <tbody>\n",
       "    <tr>\n",
       "      <th>0</th>\n",
       "      <td>360880</td>\n",
       "      <td>631204</td>\n",
       "      <td>NaN</td>\n",
       "      <td>[OH:1][C@H:2]([C:23]1[C:32]2[C:27](=[CH:28][CH...</td>\n",
       "      <td>|f:1.2,4.5,7.8.9|</td>\n",
       "      <td>US20080280879A1_0290</td>\n",
       "      <td>2008</td>\n",
       "      <td>CC(C)O.Cl.ClCCl.O.[Br-].[Br-].[CH3:1][O:2][c:3...</td>\n",
       "      <td>0.383923</td>\n",
       "      <td>CC(C)O~O.COc1ccc2nccc([C@@H](O)CC[C@@H]3CCN(C4...</td>\n",
       "      <td>...</td>\n",
       "      <td>US20080280879A1_0290apps</td>\n",
       "      <td>75313295f4acc761f6f6b146936d46229a2c0c1699beec...</td>\n",
       "      <td>CC(C)O.Cl.ClCCl.O.[Br-].[Br-].[CH3:1][O:2][c:3...</td>\n",
       "      <td>[CH3:1][O:2][c:3]1[cH:4][cH:5][c:6]2[n:7][cH:8...</td>\n",
       "      <td>([C:1]-[c;H0;D3;+0:2]1:[n;H0;D2;+0:3]:[n;H0;D2...</td>\n",
       "      <td>5d3b7e558171a190903c74fc80e5960216a3b3503d6a6b...</td>\n",
       "      <td>1.0</td>\n",
       "      <td>1.0</td>\n",
       "      <td>CC(C)O.Cl.ClCCl.O.[Br-].[Br-].[Na+].[Zn+2]</td>\n",
       "      <td>366</td>\n",
       "    </tr>\n",
       "    <tr>\n",
       "      <th>1</th>\n",
       "      <td>3449</td>\n",
       "      <td>18057</td>\n",
       "      <td>23420.0</td>\n",
       "      <td>CO.[CH2:3](C1C(S(=O)(=O)N)=CC(C(O)=O)=CC=1SCCC...</td>\n",
       "      <td>NaN</td>\n",
       "      <td>US04018794_</td>\n",
       "      <td>1977</td>\n",
       "      <td>CCCCSc1cc(C(=O)O)cc(S(N)(=O)=O)c1Cc1ccccc1.CO....</td>\n",
       "      <td>0.281201</td>\n",
       "      <td>CCCCSc1cc(C(=O)O)cc(S(N)(=O)=O)c1Cc1ccccc1.CCO...</td>\n",
       "      <td>...</td>\n",
       "      <td>US04018794_grants</td>\n",
       "      <td>54077354e7ec20cb9a24dabf251b430c16ce11a4ec8ebc...</td>\n",
       "      <td>CCCCSc1cc(C(=O)O)cc(S(N)(=O)=O)c1Cc1ccccc1.CO....</td>\n",
       "      <td>[CH3:1][CH2:2][O:3][C:4](=[O:5])[c:6]1[cH:7][c...</td>\n",
       "      <td>([C;D1;H3:2]-[CH2;D2;+0:1]-[O;H0;D2;+0:5]-[C:4...</td>\n",
       "      <td>bc7193984167c71913195a0abce257da8748eb7d4b7676...</td>\n",
       "      <td>1.0</td>\n",
       "      <td>1.0</td>\n",
       "      <td>CCCCSc1cc(C(=O)O)cc(S(N)(=O)=O)c1Cc1ccccc1.CO</td>\n",
       "      <td>47</td>\n",
       "    </tr>\n",
       "    <tr>\n",
       "      <th>2</th>\n",
       "      <td>40760</td>\n",
       "      <td>181710</td>\n",
       "      <td>292099.0</td>\n",
       "      <td>C([O:3][C:4](=[O:42])[CH2:5][N:6]([CH2:36][C:3...</td>\n",
       "      <td>|f:1.2|</td>\n",
       "      <td>US05298652_</td>\n",
       "      <td>1994</td>\n",
       "      <td>CC[O:32][C:30]([CH2:29][N:28]([C:26]([C:24]([c...</td>\n",
       "      <td>0.391307</td>\n",
       "      <td>CCCCCCCCCCCCCCCCCCOc1ccc(C(=O)C(=O)N(CC(=O)OCC...</td>\n",
       "      <td>...</td>\n",
       "      <td>US05298652_grants</td>\n",
       "      <td>863fecde7f2629ed45b37b61893e22cac62127c8df8ccc...</td>\n",
       "      <td>CC[O:32][C:30]([CH2:29][N:28]([C:26]([C:24]([c...</td>\n",
       "      <td>[CH3:1][CH2:2][CH2:3][CH2:4][CH2:5][CH2:6][CH2...</td>\n",
       "      <td>([C:3]-[C:2](=[O;D1;H0:4])-[OH;D1;+0:1].[C:7]-...</td>\n",
       "      <td>192a85c05b021f20177796ea8d850f269f9334cc467273...</td>\n",
       "      <td>0.0</td>\n",
       "      <td>1.0</td>\n",
       "      <td>CO.[Na+].[OH-]</td>\n",
       "      <td>255</td>\n",
       "    </tr>\n",
       "    <tr>\n",
       "      <th>3</th>\n",
       "      <td>256297</td>\n",
       "      <td>848664</td>\n",
       "      <td>1411564.0</td>\n",
       "      <td>C(OC([N:8]1[CH2:13][CH2:12][N:11]([C:14](=[O:1...</td>\n",
       "      <td>NaN</td>\n",
       "      <td>US08623858B2_0356</td>\n",
       "      <td>2014</td>\n",
       "      <td>CC(C)(C)OC(=O)[N:6]1[CH2:5][CH2:4][N:3]([C:2](...</td>\n",
       "      <td>0.212479</td>\n",
       "      <td>CC(C)(C)OC(=O)N1CCN(C(=O)C(F)(F)F)CC1.ClCCl.O=...</td>\n",
       "      <td>...</td>\n",
       "      <td>US08623858B2_0356grants</td>\n",
       "      <td>5652da7921e52068dd9e96443325710dbd1e2d559ba8be...</td>\n",
       "      <td>CC(C)(C)OC(=O)[N:6]1[CH2:5][CH2:4][N:3]([C:2](...</td>\n",
       "      <td>[O:1]=[C:2]([N:3]1[CH2:4][CH2:5][NH:6][CH2:7][...</td>\n",
       "      <td>([C:2]-[NH;D2;+0:1]-[C:3])&gt;&gt;(C-C(-C)(-C)-O-C(=...</td>\n",
       "      <td>55396c1492cc3823f0701ef923544f9f4c1af584b69f4c...</td>\n",
       "      <td>1.0</td>\n",
       "      <td>1.0</td>\n",
       "      <td>ClCCl.O=C(O)C(F)(F)F</td>\n",
       "      <td>575</td>\n",
       "    </tr>\n",
       "    <tr>\n",
       "      <th>4</th>\n",
       "      <td>19531</td>\n",
       "      <td>94482</td>\n",
       "      <td>153662.0</td>\n",
       "      <td>[H-].[Al+3].[Li+].[H-].[H-].[H-].C(OCC)C.[CH3:...</td>\n",
       "      <td>|f:0.1.2.3.4.5|</td>\n",
       "      <td>US04631147_</td>\n",
       "      <td>1986</td>\n",
       "      <td>CCOCC.O.O=S(=O)(O)O.[Al+3].[CH3:1][C:2]1([CH3:...</td>\n",
       "      <td>0.592780</td>\n",
       "      <td>CC1(C)CCCCC(C)(C)C1=O.CCOCC.O.O=S(=O)(O)O.[Al+...</td>\n",
       "      <td>...</td>\n",
       "      <td>US04631147_grants</td>\n",
       "      <td>95ee6249829029fe0d30675fad32e26dbc6098e8e37c75...</td>\n",
       "      <td>CCOCC.O.O=S(=O)(O)O.[Al+3].[CH3:1][C:2]1([CH3:...</td>\n",
       "      <td>[CH3:1][C:2]1([CH3:3])[CH2:4][CH2:5][CH2:6][CH...</td>\n",
       "      <td>([C:1]-[CH;D3;+0:2](-[C:3])-[OH;D1;+0:4])&gt;&gt;([C...</td>\n",
       "      <td>0fb396942a5bc824558e6936c3618c2e342b489a89ecce...</td>\n",
       "      <td>1.0</td>\n",
       "      <td>1.0</td>\n",
       "      <td>CCOCC.O.O=S(=O)(O)O.[Al+3].[H-].[H-].[H-].[H-]...</td>\n",
       "      <td>91</td>\n",
       "    </tr>\n",
       "  </tbody>\n",
       "</table>\n",
       "<p>5 rows × 21 columns</p>\n",
       "</div>"
      ],
      "text/plain": [
       "   Unnamed: 0  level_0      index  \\\n",
       "0      360880   631204        NaN   \n",
       "1        3449    18057    23420.0   \n",
       "2       40760   181710   292099.0   \n",
       "3      256297   848664  1411564.0   \n",
       "4       19531    94482   153662.0   \n",
       "\n",
       "                                        original_rxn          fragments  \\\n",
       "0  [OH:1][C@H:2]([C:23]1[C:32]2[C:27](=[CH:28][CH...  |f:1.2,4.5,7.8.9|   \n",
       "1  CO.[CH2:3](C1C(S(=O)(=O)N)=CC(C(O)=O)=CC=1SCCC...                NaN   \n",
       "2  C([O:3][C:4](=[O:42])[CH2:5][N:6]([CH2:36][C:3...            |f:1.2|   \n",
       "3  C(OC([N:8]1[CH2:13][CH2:12][N:11]([C:14](=[O:1...                NaN   \n",
       "4  [H-].[Al+3].[Li+].[H-].[H-].[H-].C(OCC)C.[CH3:...    |f:0.1.2.3.4.5|   \n",
       "\n",
       "                 source  year  \\\n",
       "0  US20080280879A1_0290  2008   \n",
       "1           US04018794_  1977   \n",
       "2           US05298652_  1994   \n",
       "3     US08623858B2_0356  2014   \n",
       "4           US04631147_  1986   \n",
       "\n",
       "                                          mapped_rxn  confidence  \\\n",
       "0  CC(C)O.Cl.ClCCl.O.[Br-].[Br-].[CH3:1][O:2][c:3...    0.383923   \n",
       "1  CCCCSc1cc(C(=O)O)cc(S(N)(=O)=O)c1Cc1ccccc1.CO....    0.281201   \n",
       "2  CC[O:32][C:30]([CH2:29][N:28]([C:26]([C:24]([c...    0.391307   \n",
       "3  CC(C)(C)OC(=O)[N:6]1[CH2:5][CH2:4][N:3]([C:2](...    0.212479   \n",
       "4  CCOCC.O.O=S(=O)(O)O.[Al+3].[CH3:1][C:2]1([CH3:...    0.592780   \n",
       "\n",
       "                    canonical_rxn_with_fragment_info  ...  \\\n",
       "0  CC(C)O~O.COc1ccc2nccc([C@@H](O)CC[C@@H]3CCN(C4...  ...   \n",
       "1  CCCCSc1cc(C(=O)O)cc(S(N)(=O)=O)c1Cc1ccccc1.CCO...  ...   \n",
       "2  CCCCCCCCCCCCCCCCCCOc1ccc(C(=O)C(=O)N(CC(=O)OCC...  ...   \n",
       "3  CC(C)(C)OC(=O)N1CCN(C(=O)C(F)(F)F)CC1.ClCCl.O=...  ...   \n",
       "4  CC1(C)CCCCC(C)(C)C1=O.CCOCC.O.O=S(=O)(O)O.[Al+...  ...   \n",
       "\n",
       "                         ID  \\\n",
       "0  US20080280879A1_0290apps   \n",
       "1         US04018794_grants   \n",
       "2         US05298652_grants   \n",
       "3   US08623858B2_0356grants   \n",
       "4         US04631147_grants   \n",
       "\n",
       "                                       reaction_hash  \\\n",
       "0  75313295f4acc761f6f6b146936d46229a2c0c1699beec...   \n",
       "1  54077354e7ec20cb9a24dabf251b430c16ce11a4ec8ebc...   \n",
       "2  863fecde7f2629ed45b37b61893e22cac62127c8df8ccc...   \n",
       "3  5652da7921e52068dd9e96443325710dbd1e2d559ba8be...   \n",
       "4  95ee6249829029fe0d30675fad32e26dbc6098e8e37c75...   \n",
       "\n",
       "                                           reactants  \\\n",
       "0  CC(C)O.Cl.ClCCl.O.[Br-].[Br-].[CH3:1][O:2][c:3...   \n",
       "1  CCCCSc1cc(C(=O)O)cc(S(N)(=O)=O)c1Cc1ccccc1.CO....   \n",
       "2  CC[O:32][C:30]([CH2:29][N:28]([C:26]([C:24]([c...   \n",
       "3  CC(C)(C)OC(=O)[N:6]1[CH2:5][CH2:4][N:3]([C:2](...   \n",
       "4  CCOCC.O.O=S(=O)(O)O.[Al+3].[CH3:1][C:2]1([CH3:...   \n",
       "\n",
       "                                            products  \\\n",
       "0  [CH3:1][O:2][c:3]1[cH:4][cH:5][c:6]2[n:7][cH:8...   \n",
       "1  [CH3:1][CH2:2][O:3][C:4](=[O:5])[c:6]1[cH:7][c...   \n",
       "2  [CH3:1][CH2:2][CH2:3][CH2:4][CH2:5][CH2:6][CH2...   \n",
       "3  [O:1]=[C:2]([N:3]1[CH2:4][CH2:5][NH:6][CH2:7][...   \n",
       "4  [CH3:1][C:2]1([CH3:3])[CH2:4][CH2:5][CH2:6][CH...   \n",
       "\n",
       "                                      retro_template  \\\n",
       "0  ([C:1]-[c;H0;D3;+0:2]1:[n;H0;D2;+0:3]:[n;H0;D2...   \n",
       "1  ([C;D1;H3:2]-[CH2;D2;+0:1]-[O;H0;D2;+0:5]-[C:4...   \n",
       "2  ([C:3]-[C:2](=[O;D1;H0:4])-[OH;D1;+0:1].[C:7]-...   \n",
       "3  ([C:2]-[NH;D2;+0:1]-[C:3])>>(C-C(-C)(-C)-O-C(=...   \n",
       "4  ([C:1]-[CH;D3;+0:2](-[C:3])-[OH;D1;+0:4])>>([C...   \n",
       "\n",
       "                                       template_hash selectivity  outcomes  \\\n",
       "0  5d3b7e558171a190903c74fc80e5960216a3b3503d6a6b...         1.0       1.0   \n",
       "1  bc7193984167c71913195a0abce257da8748eb7d4b7676...         1.0       1.0   \n",
       "2  192a85c05b021f20177796ea8d850f269f9334cc467273...         0.0       1.0   \n",
       "3  55396c1492cc3823f0701ef923544f9f4c1af584b69f4c...         1.0       1.0   \n",
       "4  0fb396942a5bc824558e6936c3618c2e342b489a89ecce...         1.0       1.0   \n",
       "\n",
       "                                            reagents labels  \n",
       "0         CC(C)O.Cl.ClCCl.O.[Br-].[Br-].[Na+].[Zn+2]    366  \n",
       "1      CCCCSc1cc(C(=O)O)cc(S(N)(=O)=O)c1Cc1ccccc1.CO     47  \n",
       "2                                     CO.[Na+].[OH-]    255  \n",
       "3                               ClCCl.O=C(O)C(F)(F)F    575  \n",
       "4  CCOCC.O.O=S(=O)(O)O.[Al+3].[H-].[H-].[H-].[H-]...     91  \n",
       "\n",
       "[5 rows x 21 columns]"
      ]
     },
     "execution_count": 5,
     "metadata": {},
     "output_type": "execute_result"
    }
   ],
   "source": [
    "all_data.head()"
   ]
  },
  {
   "cell_type": "code",
   "execution_count": 14,
   "id": "trying-induction",
   "metadata": {},
   "outputs": [],
   "source": [
    "from rdkit.Chem.Draw import IPythonConsole"
   ]
  },
  {
   "cell_type": "code",
   "execution_count": 9,
   "id": "productive-idaho",
   "metadata": {},
   "outputs": [],
   "source": [
    "from rdkit.Chem import AllChem"
   ]
  },
  {
   "cell_type": "code",
   "execution_count": 16,
   "id": "executed-maintenance",
   "metadata": {},
   "outputs": [],
   "source": [
    "rxn = AllChem.ReactionFromSmarts(\"([C:1]-[c;H0;D3;+0:2]1:[n;H0;D2;+0:3]:[n;H0;D2;+0:5]:[nH;D2;+0:4]:[n;H0;D2;+0:6]:1)>>([C:1]-[C;H0;D2;+0:2]#[N;H0;D1;+0:3]).([N-;H0;D1:4]=[N+;H0;D2:5]=[N-;H0;D1:6])\")"
   ]
  },
  {
   "cell_type": "code",
   "execution_count": 17,
   "id": "marine-figure",
   "metadata": {},
   "outputs": [],
   "source": [
    "reacts = Chem.MolFromSmiles('[CH3:1][O:2][c:3]1[cH:4][cH:5][c:6]2[n:7][cH:8][cH:9][c:10]([C@@H:11]([OH:12])[CH2:13][CH2:14][C@@H:15]3[CH2:16][CH2:17][N:18]([CH:19]4[CH2:20][CH:21]([c:22]5[cH:23][cH:24][cH:25][cH:26][cH:27]5)[CH2:28]4)[CH2:29][C@@H:30]3[c:31]3[n:32][n:33][nH:34][n:35]3)[c:36]2[cH:37]1')"
   ]
  },
  {
   "cell_type": "code",
   "execution_count": 29,
   "id": "fifth-nelson",
   "metadata": {},
   "outputs": [],
   "source": [
    "can_rcts = standize(rcts)"
   ]
  },
  {
   "cell_type": "code",
   "execution_count": 25,
   "id": "organizational-eating",
   "metadata": {},
   "outputs": [
    {
     "data": {
      "image/png": "[encoded data removed]",
      "text/plain": [
       "<rdkit.Chem.rdchem.Mol at 0x154e773f3090>"
      ]
     },
     "execution_count": 25,
     "metadata": {},
     "output_type": "execute_result"
    }
   ],
   "source": [
    "can_rgt = all_data.iloc[0][\"reagents\"]"
   ]
  },
  {
   "cell_type": "code",
   "execution_count": 26,
   "id": "confused-allergy",
   "metadata": {},
   "outputs": [
    {
     "data": {
      "image/png": "[encoded data removed]",
      "text/plain": [
       "<rdkit.Chem.rdchem.Mol at 0x154e773f3330>"
      ]
     },
     "execution_count": 26,
     "metadata": {},
     "output_type": "execute_result"
    }
   ],
   "source": [
    "products[0][1]"
   ]
  },
  {
   "cell_type": "code",
   "execution_count": 27,
   "id": "pending-cologne",
   "metadata": {},
   "outputs": [
    {
     "data": {
      "image/png": "[encoded data removed]",
      "text/plain": [
       "<rdkit.Chem.rdchem.Mol at 0x154e774281c0>"
      ]
     },
     "execution_count": 27,
     "metadata": {},
     "output_type": "execute_result"
    }
   ],
   "source": [
    "Chem.MolFromSmiles(\"CC(C)O.Cl.ClCCl.O.[Br-].[Br-].[CH3:1][O:2][c:3]1[cH:4][cH:5][c:6]2[n:7][cH:8][cH:9][c:10]([C@@H:11]([OH:12])[CH2:13][CH2:14][C@@H:15]3[CH2:16][CH2:17][N:18]([CH:19]4[CH2:20][CH:21]([c:22]5[cH:23][cH:24][cH:25][cH:26][cH:27]5)[CH2:28]4)[CH2:29][C@@H:30]3[C:31]#[N:32])[c:36]2[cH:37]1.[N+:33](=[N-:34])=[N-:35].[Na+].[Zn+2]\")"
   ]
  },
  {
   "cell_type": "code",
   "execution_count": null,
   "id": "magnetic-america",
   "metadata": {},
   "outputs": [],
   "source": []
  }
 ],
 "metadata": {
  "kernelspec": {
   "display_name": "Python 3",
   "language": "python",
   "name": "python3"
  },
  "language_info": {
   "codemirror_mode": {
    "name": "ipython",
    "version": 3
   },
   "file_extension": ".py",
   "mimetype": "text/x-python",
   "name": "python",
   "nbconvert_exporter": "python",
   "pygments_lexer": "ipython3",
   "version": "3.8.5"
  }
 },
 "nbformat": 4,
 "nbformat_minor": 5
}
